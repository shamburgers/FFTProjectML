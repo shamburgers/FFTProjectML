{
 "cells": [
  {
   "cell_type": "code",
   "execution_count": 1,
   "id": "cc7f8e1c",
   "metadata": {},
   "outputs": [
    {
     "data": {
      "text/plain": [
       "[PhysicalDevice(name='/physical_device:GPU:0', device_type='GPU')]"
      ]
     },
     "execution_count": 1,
     "metadata": {},
     "output_type": "execute_result"
    }
   ],
   "source": [
    "import h5py\n",
    "import tensorflow as tf\n",
    "import keras\n",
    "import dask.array as da\n",
    "import seaborn as sns\n",
    "#Check if GPU is being used and import other necessary libraries\n",
    "tf.config.list_physical_devices('GPU')"
   ]
  },
  {
   "cell_type": "code",
   "execution_count": 2,
   "id": "d85eedd9",
   "metadata": {},
   "outputs": [],
   "source": [
    "#Again, just import some necessary libraries as part of the preamble in training our dataset\n",
    "import numpy as np\n",
    "np.random.seed(1337)  # for reproducibility\n",
    "from keras.models import Sequential\n",
    "from keras.initializers import TruncatedNormal, Zeros\n",
    "from keras.layers import Input, Dense, Dropout, Flatten, MaxPooling2D, Conv2D\n",
    "from keras.callbacks import ReduceLROnPlateau\n",
    "from sklearn.metrics import roc_curve, auc, classification_report, confusion_matrix, roc_auc_score, accuracy_score\n",
    "import matplotlib.pyplot as plt\n",
    "from sklearn.model_selection import train_test_split"
   ]
  },
  {
   "cell_type": "code",
   "execution_count": 3,
   "id": "111bdb2b",
   "metadata": {},
   "outputs": [],
   "source": [
    "#Just define some variables for the training set and test set\n",
    "f = h5py.File(\"train_pile_10000000.h5\", \"r\")\n",
    "g = h5py.File(\"test_pile_5000000.h5\", \"r\")"
   ]
  },
  {
   "cell_type": "code",
   "execution_count": 4,
   "id": "48e97a51",
   "metadata": {},
   "outputs": [],
   "source": [
    "X_train = da.from_array(f['features'], chunks=(100000, 1, 32,32))\n",
    "y_train =  da.from_array(f['targets'], chunks=(100000,1))\n",
    "X_test = da.from_array(g['features'], chunks=(100000, 1, 32,32))\n",
    "y_test =  da.from_array(g['targets'], chunks=(100000,1))"
   ]
  },
  {
   "cell_type": "code",
   "execution_count": 5,
   "id": "2069da78",
   "metadata": {},
   "outputs": [],
   "source": [
    "def dask_generator(X, y, batch_size):\n",
    "    instances = X.shape[0]\n",
    "    batches = instances // batch_size\n",
    "    while True:\n",
    "        for i in range(batches):\n",
    "            X_batch = X[i*batch_size:(i+1)*batch_size]\n",
    "            y_batch = y[i*batch_size:(i+1)*batch_size]\n",
    "            yield X_batch, y_batch"
   ]
  },
  {
   "cell_type": "code",
   "execution_count": 6,
   "id": "4afb9fab",
   "metadata": {},
   "outputs": [],
   "source": [
    "batch_size = 64\n",
    "train = dask_generator(X_train, y_train, batch_size)\n",
    "test = dask_generator(X_test, y_test, batch_size)"
   ]
  },
  {
   "cell_type": "code",
   "execution_count": 7,
   "id": "0d153463",
   "metadata": {},
   "outputs": [
    {
     "name": "stderr",
     "output_type": "stream",
     "text": [
      "C:\\Users\\Sham\\anaconda3\\lib\\site-packages\\tensorflow_addons\\utils\\tfa_eol_msg.py:23: UserWarning: \n",
      "\n",
      "TensorFlow Addons (TFA) has ended development and introduction of new features.\n",
      "TFA has entered a minimal maintenance and release mode until a planned end of life in May 2024.\n",
      "Please modify downstream libraries to take dependencies from other repositories in our TensorFlow community (e.g. Keras, Keras-CV, and Keras-NLP). \n",
      "\n",
      "For more information see: https://github.com/tensorflow/addons/issues/2807 \n",
      "\n",
      "  warnings.warn(\n"
     ]
    }
   ],
   "source": [
    "from DeepSaki.layers import FourierConvolution2D\n",
    "custom_objects = {\"FourierConvolution2D\": FourierConvolution2D, \"TruncatedNormal\": TruncatedNormal,\n",
    "                 \"Zeros\": Zeros}\n",
    "\n",
    "# Load model\n",
    "model1 = keras.models.load_model(\"ffcnnmodel.h5\", custom_objects=custom_objects)\n",
    "model2 = keras.models.load_model(\"conv2dmodel.h5\")\n",
    "model3 = keras.models.load_model(\"stackmodel.h5\", custom_objects=custom_objects)"
   ]
  },
  {
   "cell_type": "code",
   "execution_count": null,
   "id": "0d21f70d",
   "metadata": {},
   "outputs": [],
   "source": [
    "#For F-FCNN"
   ]
  },
  {
   "cell_type": "code",
   "execution_count": 8,
   "id": "ec670a73",
   "metadata": {},
   "outputs": [
    {
     "name": "stdout",
     "output_type": "stream",
     "text": [
      "Model: \"model_3\"\n",
      "_________________________________________________________________\n",
      " Layer (type)                Output Shape              Param #   \n",
      "=================================================================\n",
      " input_4 (InputLayer)        [(64, 1, 32, 32)]         0         \n",
      "                                                                 \n",
      " fourier_convolution2d_8 (Fo  (64, 32, 32, 32)         288       \n",
      " urierConvolution2D)                                             \n",
      "                                                                 \n",
      " fourier_convolution2d_9 (Fo  (64, 32, 32, 32)         9216      \n",
      " urierConvolution2D)                                             \n",
      "                                                                 \n",
      " max_pooling2d_3 (MaxPooling  (64, 32, 16, 16)         0         \n",
      " 2D)                                                             \n",
      "                                                                 \n",
      " fourier_convolution2d_10 (F  (64, 64, 16, 16)         8192      \n",
      " ourierConvolution2D)                                            \n",
      "                                                                 \n",
      " fourier_convolution2d_11 (F  (64, 64, 16, 16)         16384     \n",
      " ourierConvolution2D)                                            \n",
      "                                                                 \n",
      " flatten_3 (Flatten)         (64, 16384)               0         \n",
      "                                                                 \n",
      " dense_9 (Dense)             (64, 128)                 2097280   \n",
      "                                                                 \n",
      " dropout_6 (Dropout)         (64, 128)                 0         \n",
      "                                                                 \n",
      " dense_10 (Dense)            (64, 32)                  4128      \n",
      "                                                                 \n",
      " dropout_7 (Dropout)         (64, 32)                  0         \n",
      "                                                                 \n",
      " dense_11 (Dense)            (64, 1)                   33        \n",
      "                                                                 \n",
      "=================================================================\n",
      "Total params: 2,135,521\n",
      "Trainable params: 2,135,521\n",
      "Non-trainable params: 0\n",
      "_________________________________________________________________\n"
     ]
    }
   ],
   "source": [
    "model1.summary()"
   ]
  },
  {
   "cell_type": "code",
   "execution_count": 9,
   "id": "8df14397",
   "metadata": {},
   "outputs": [],
   "source": [
    "ffcnn_intermediate_layer_model = keras.Model(inputs=model1.inputs, outputs=model1.get_layer(\"dense_10\").output)"
   ]
  },
  {
   "cell_type": "code",
   "execution_count": 10,
   "id": "9dec7561",
   "metadata": {},
   "outputs": [
    {
     "name": "stdout",
     "output_type": "stream",
     "text": [
      "Model: \"model\"\n",
      "_________________________________________________________________\n",
      " Layer (type)                Output Shape              Param #   \n",
      "=================================================================\n",
      " input_4 (InputLayer)        [(64, 1, 32, 32)]         0         \n",
      "                                                                 \n",
      " fourier_convolution2d_8 (Fo  (64, 32, 32, 32)         288       \n",
      " urierConvolution2D)                                             \n",
      "                                                                 \n",
      " fourier_convolution2d_9 (Fo  (64, 32, 32, 32)         9216      \n",
      " urierConvolution2D)                                             \n",
      "                                                                 \n",
      " max_pooling2d_3 (MaxPooling  (64, 32, 16, 16)         0         \n",
      " 2D)                                                             \n",
      "                                                                 \n",
      " fourier_convolution2d_10 (F  (64, 64, 16, 16)         8192      \n",
      " ourierConvolution2D)                                            \n",
      "                                                                 \n",
      " fourier_convolution2d_11 (F  (64, 64, 16, 16)         16384     \n",
      " ourierConvolution2D)                                            \n",
      "                                                                 \n",
      " flatten_3 (Flatten)         (64, 16384)               0         \n",
      "                                                                 \n",
      " dense_9 (Dense)             (64, 128)                 2097280   \n",
      "                                                                 \n",
      " dropout_6 (Dropout)         (64, 128)                 0         \n",
      "                                                                 \n",
      " dense_10 (Dense)            (64, 32)                  4128      \n",
      "                                                                 \n",
      "=================================================================\n",
      "Total params: 2,135,488\n",
      "Trainable params: 2,135,488\n",
      "Non-trainable params: 0\n",
      "_________________________________________________________________\n"
     ]
    }
   ],
   "source": [
    "ffcnn_intermediate_layer_model.summary()"
   ]
  },
  {
   "cell_type": "code",
   "execution_count": 11,
   "id": "0fcef720",
   "metadata": {},
   "outputs": [
    {
     "name": "stdout",
     "output_type": "stream",
     "text": [
      "156250/156250 [==============================] - 1220s 8ms/step\n"
     ]
    }
   ],
   "source": [
    "ffcnn_intermediate_output = ffcnn_intermediate_layer_model.predict(train, steps = X_train.shape[0]//64) "
   ]
  },
  {
   "cell_type": "code",
   "execution_count": 12,
   "id": "dff100a1",
   "metadata": {},
   "outputs": [
    {
     "name": "stdout",
     "output_type": "stream",
     "text": [
      "78125/78125 [==============================] - 854s 11ms/step\n"
     ]
    }
   ],
   "source": [
    "ffcnn_intermediate_test_output = ffcnn_intermediate_layer_model.predict(test, steps = X_test.shape[0]//64)"
   ]
  },
  {
   "cell_type": "code",
   "execution_count": 8,
   "id": "b71951c6",
   "metadata": {},
   "outputs": [],
   "source": [
    "from xgboost import XGBClassifier\n",
    "xgb = XGBClassifier(booster = 'gbtree', min_split_loss = 0.1, n_estimators=120, max_depth=7, min_child_weight = 0.0025, \n",
    "                      learning_rate = 0.07, objective = 'binary:logistic', random_state=42)"
   ]
  },
  {
   "cell_type": "code",
   "execution_count": 14,
   "id": "fc76f8fa",
   "metadata": {},
   "outputs": [
    {
     "data": {
      "text/html": [
       "<style>#sk-container-id-1 {color: black;background-color: white;}#sk-container-id-1 pre{padding: 0;}#sk-container-id-1 div.sk-toggleable {background-color: white;}#sk-container-id-1 label.sk-toggleable__label {cursor: pointer;display: block;width: 100%;margin-bottom: 0;padding: 0.3em;box-sizing: border-box;text-align: center;}#sk-container-id-1 label.sk-toggleable__label-arrow:before {content: \"▸\";float: left;margin-right: 0.25em;color: #696969;}#sk-container-id-1 label.sk-toggleable__label-arrow:hover:before {color: black;}#sk-container-id-1 div.sk-estimator:hover label.sk-toggleable__label-arrow:before {color: black;}#sk-container-id-1 div.sk-toggleable__content {max-height: 0;max-width: 0;overflow: hidden;text-align: left;background-color: #f0f8ff;}#sk-container-id-1 div.sk-toggleable__content pre {margin: 0.2em;color: black;border-radius: 0.25em;background-color: #f0f8ff;}#sk-container-id-1 input.sk-toggleable__control:checked~div.sk-toggleable__content {max-height: 200px;max-width: 100%;overflow: auto;}#sk-container-id-1 input.sk-toggleable__control:checked~label.sk-toggleable__label-arrow:before {content: \"▾\";}#sk-container-id-1 div.sk-estimator input.sk-toggleable__control:checked~label.sk-toggleable__label {background-color: #d4ebff;}#sk-container-id-1 div.sk-label input.sk-toggleable__control:checked~label.sk-toggleable__label {background-color: #d4ebff;}#sk-container-id-1 input.sk-hidden--visually {border: 0;clip: rect(1px 1px 1px 1px);clip: rect(1px, 1px, 1px, 1px);height: 1px;margin: -1px;overflow: hidden;padding: 0;position: absolute;width: 1px;}#sk-container-id-1 div.sk-estimator {font-family: monospace;background-color: #f0f8ff;border: 1px dotted black;border-radius: 0.25em;box-sizing: border-box;margin-bottom: 0.5em;}#sk-container-id-1 div.sk-estimator:hover {background-color: #d4ebff;}#sk-container-id-1 div.sk-parallel-item::after {content: \"\";width: 100%;border-bottom: 1px solid gray;flex-grow: 1;}#sk-container-id-1 div.sk-label:hover label.sk-toggleable__label {background-color: #d4ebff;}#sk-container-id-1 div.sk-serial::before {content: \"\";position: absolute;border-left: 1px solid gray;box-sizing: border-box;top: 0;bottom: 0;left: 50%;z-index: 0;}#sk-container-id-1 div.sk-serial {display: flex;flex-direction: column;align-items: center;background-color: white;padding-right: 0.2em;padding-left: 0.2em;position: relative;}#sk-container-id-1 div.sk-item {position: relative;z-index: 1;}#sk-container-id-1 div.sk-parallel {display: flex;align-items: stretch;justify-content: center;background-color: white;position: relative;}#sk-container-id-1 div.sk-item::before, #sk-container-id-1 div.sk-parallel-item::before {content: \"\";position: absolute;border-left: 1px solid gray;box-sizing: border-box;top: 0;bottom: 0;left: 50%;z-index: -1;}#sk-container-id-1 div.sk-parallel-item {display: flex;flex-direction: column;z-index: 1;position: relative;background-color: white;}#sk-container-id-1 div.sk-parallel-item:first-child::after {align-self: flex-end;width: 50%;}#sk-container-id-1 div.sk-parallel-item:last-child::after {align-self: flex-start;width: 50%;}#sk-container-id-1 div.sk-parallel-item:only-child::after {width: 0;}#sk-container-id-1 div.sk-dashed-wrapped {border: 1px dashed gray;margin: 0 0.4em 0.5em 0.4em;box-sizing: border-box;padding-bottom: 0.4em;background-color: white;}#sk-container-id-1 div.sk-label label {font-family: monospace;font-weight: bold;display: inline-block;line-height: 1.2em;}#sk-container-id-1 div.sk-label-container {text-align: center;}#sk-container-id-1 div.sk-container {/* jupyter's `normalize.less` sets `[hidden] { display: none; }` but bootstrap.min.css set `[hidden] { display: none !important; }` so we also need the `!important` here to be able to override the default hidden behavior on the sphinx rendered scikit-learn.org. See: https://github.com/scikit-learn/scikit-learn/issues/21755 */display: inline-block !important;position: relative;}#sk-container-id-1 div.sk-text-repr-fallback {display: none;}</style><div id=\"sk-container-id-1\" class=\"sk-top-container\"><div class=\"sk-text-repr-fallback\"><pre>XGBClassifier(base_score=None, booster=&#x27;gbtree&#x27;, callbacks=None,\n",
       "              colsample_bylevel=None, colsample_bynode=None,\n",
       "              colsample_bytree=None, early_stopping_rounds=None,\n",
       "              enable_categorical=False, eval_metric=None, feature_types=None,\n",
       "              gamma=None, gpu_id=None, grow_policy=None, importance_type=None,\n",
       "              interaction_constraints=None, learning_rate=0.07, max_bin=None,\n",
       "              max_cat_threshold=None, max_cat_to_onehot=None,\n",
       "              max_delta_step=None, max_depth=7, max_leaves=None,\n",
       "              min_child_weight=0.0025, min_split_loss=0.1, missing=nan,\n",
       "              monotone_constraints=None, n_estimators=120, n_jobs=None,\n",
       "              num_parallel_tree=None, predictor=None, ...)</pre><b>In a Jupyter environment, please rerun this cell to show the HTML representation or trust the notebook. <br />On GitHub, the HTML representation is unable to render, please try loading this page with nbviewer.org.</b></div><div class=\"sk-container\" hidden><div class=\"sk-item\"><div class=\"sk-estimator sk-toggleable\"><input class=\"sk-toggleable__control sk-hidden--visually\" id=\"sk-estimator-id-1\" type=\"checkbox\" checked><label for=\"sk-estimator-id-1\" class=\"sk-toggleable__label sk-toggleable__label-arrow\">XGBClassifier</label><div class=\"sk-toggleable__content\"><pre>XGBClassifier(base_score=None, booster=&#x27;gbtree&#x27;, callbacks=None,\n",
       "              colsample_bylevel=None, colsample_bynode=None,\n",
       "              colsample_bytree=None, early_stopping_rounds=None,\n",
       "              enable_categorical=False, eval_metric=None, feature_types=None,\n",
       "              gamma=None, gpu_id=None, grow_policy=None, importance_type=None,\n",
       "              interaction_constraints=None, learning_rate=0.07, max_bin=None,\n",
       "              max_cat_threshold=None, max_cat_to_onehot=None,\n",
       "              max_delta_step=None, max_depth=7, max_leaves=None,\n",
       "              min_child_weight=0.0025, min_split_loss=0.1, missing=nan,\n",
       "              monotone_constraints=None, n_estimators=120, n_jobs=None,\n",
       "              num_parallel_tree=None, predictor=None, ...)</pre></div></div></div></div></div>"
      ],
      "text/plain": [
       "XGBClassifier(base_score=None, booster='gbtree', callbacks=None,\n",
       "              colsample_bylevel=None, colsample_bynode=None,\n",
       "              colsample_bytree=None, early_stopping_rounds=None,\n",
       "              enable_categorical=False, eval_metric=None, feature_types=None,\n",
       "              gamma=None, gpu_id=None, grow_policy=None, importance_type=None,\n",
       "              interaction_constraints=None, learning_rate=0.07, max_bin=None,\n",
       "              max_cat_threshold=None, max_cat_to_onehot=None,\n",
       "              max_delta_step=None, max_depth=7, max_leaves=None,\n",
       "              min_child_weight=0.0025, min_split_loss=0.1, missing=nan,\n",
       "              monotone_constraints=None, n_estimators=120, n_jobs=None,\n",
       "              num_parallel_tree=None, predictor=None, ...)"
      ]
     },
     "execution_count": 14,
     "metadata": {},
     "output_type": "execute_result"
    }
   ],
   "source": [
    "xgb.fit(ffcnn_intermediate_output, y_train)"
   ]
  },
  {
   "cell_type": "code",
   "execution_count": 15,
   "id": "9c70914d",
   "metadata": {},
   "outputs": [],
   "source": [
    "ffcnnxgb_predtest = xgb.predict(ffcnn_intermediate_test_output)"
   ]
  },
  {
   "cell_type": "code",
   "execution_count": 17,
   "id": "a675627f",
   "metadata": {},
   "outputs": [
    {
     "name": "stdout",
     "output_type": "stream",
     "text": [
      "Test ROC AUC: 0.93980476397112\n"
     ]
    }
   ],
   "source": [
    "# Evaluate on test set\n",
    "ffcnnxgy_hat = xgb.predict_proba(ffcnn_intermediate_test_output)[:, 1]\n",
    "ffcnnxg_fpr, ffcnnxg_tpr, _ = roc_curve(y_test, ffcnnxgy_hat)\n",
    "ffcnnxgroc_auc = auc(ffcnnxg_fpr, ffcnnxg_tpr)\n",
    "print('Test ROC AUC:', ffcnnxgroc_auc)"
   ]
  },
  {
   "cell_type": "code",
   "execution_count": 18,
   "id": "e7359854",
   "metadata": {},
   "outputs": [
    {
     "data": {
      "image/png": "[encoded data removed]",
      "text/plain": [
       "<Figure size 640x480 with 2 Axes>"
      ]
     },
     "metadata": {},
     "output_type": "display_data"
    }
   ],
   "source": [
    "sns.set_context('talk')\n",
    "ffcnn_cm = confusion_matrix(y_test, np.where(ffcnnxgy_hat > 0.5, 1, 0))\n",
    "ffcnn_ax = sns.heatmap(ffcnn_cm/np.sum(ffcnn_cm), annot=True, fmt='.5%', cmap='Blues')\n",
    "plt.savefig(\"ffcnn+xgb confusion matrix.png\", dpi = 1200)"
   ]
  },
  {
   "cell_type": "code",
   "execution_count": null,
   "id": "a1760499",
   "metadata": {},
   "outputs": [],
   "source": [
    "##############################################################################################################################"
   ]
  },
  {
   "cell_type": "code",
   "execution_count": null,
   "id": "b4b9eea1",
   "metadata": {},
   "outputs": [],
   "source": [
    "##############################################################################################################################"
   ]
  },
  {
   "cell_type": "code",
   "execution_count": 8,
   "id": "fc123c7f",
   "metadata": {},
   "outputs": [],
   "source": [
    "#For conv2d"
   ]
  },
  {
   "cell_type": "code",
   "execution_count": 9,
   "id": "385bf6f0",
   "metadata": {
    "scrolled": false
   },
   "outputs": [
    {
     "name": "stdout",
     "output_type": "stream",
     "text": [
      "Model: \"model\"\n",
      "_________________________________________________________________\n",
      " Layer (type)                Output Shape              Param #   \n",
      "=================================================================\n",
      " input_1 (InputLayer)        [(64, 1, 32, 32)]         0         \n",
      "                                                                 \n",
      " conv2d (Conv2D)             (64, 32, 32, 32)          160       \n",
      "                                                                 \n",
      " conv2d_1 (Conv2D)           (64, 32, 32, 32)          4128      \n",
      "                                                                 \n",
      " max_pooling2d (MaxPooling2D  (64, 32, 16, 16)         0         \n",
      " )                                                               \n",
      "                                                                 \n",
      " conv2d_2 (Conv2D)           (64, 64, 16, 16)          18496     \n",
      "                                                                 \n",
      " conv2d_3 (Conv2D)           (64, 64, 16, 16)          36928     \n",
      "                                                                 \n",
      " flatten (Flatten)           (64, 16384)               0         \n",
      "                                                                 \n",
      " dense (Dense)               (64, 128)                 2097280   \n",
      "                                                                 \n",
      " dropout (Dropout)           (64, 128)                 0         \n",
      "                                                                 \n",
      " dense_1 (Dense)             (64, 32)                  4128      \n",
      "                                                                 \n",
      " dropout_1 (Dropout)         (64, 32)                  0         \n",
      "                                                                 \n",
      " dense_2 (Dense)             (64, 1)                   33        \n",
      "                                                                 \n",
      "=================================================================\n",
      "Total params: 2,161,153\n",
      "Trainable params: 2,161,153\n",
      "Non-trainable params: 0\n",
      "_________________________________________________________________\n"
     ]
    }
   ],
   "source": [
    "model2.summary()"
   ]
  },
  {
   "cell_type": "code",
   "execution_count": 10,
   "id": "617eaddd",
   "metadata": {},
   "outputs": [],
   "source": [
    "cnn_intermediate_layer_model = keras.Model(inputs=model2.inputs, outputs=model2.get_layer(\"dense_1\").output)"
   ]
  },
  {
   "cell_type": "code",
   "execution_count": 11,
   "id": "60d263b7",
   "metadata": {},
   "outputs": [
    {
     "name": "stdout",
     "output_type": "stream",
     "text": [
      "Model: \"model\"\n",
      "_________________________________________________________________\n",
      " Layer (type)                Output Shape              Param #   \n",
      "=================================================================\n",
      " input_1 (InputLayer)        [(64, 1, 32, 32)]         0         \n",
      "                                                                 \n",
      " conv2d (Conv2D)             (64, 32, 32, 32)          160       \n",
      "                                                                 \n",
      " conv2d_1 (Conv2D)           (64, 32, 32, 32)          4128      \n",
      "                                                                 \n",
      " max_pooling2d (MaxPooling2D  (64, 32, 16, 16)         0         \n",
      " )                                                               \n",
      "                                                                 \n",
      " conv2d_2 (Conv2D)           (64, 64, 16, 16)          18496     \n",
      "                                                                 \n",
      " conv2d_3 (Conv2D)           (64, 64, 16, 16)          36928     \n",
      "                                                                 \n",
      " flatten (Flatten)           (64, 16384)               0         \n",
      "                                                                 \n",
      " dense (Dense)               (64, 128)                 2097280   \n",
      "                                                                 \n",
      " dropout (Dropout)           (64, 128)                 0         \n",
      "                                                                 \n",
      " dense_1 (Dense)             (64, 32)                  4128      \n",
      "                                                                 \n",
      "=================================================================\n",
      "Total params: 2,161,120\n",
      "Trainable params: 2,161,120\n",
      "Non-trainable params: 0\n",
      "_________________________________________________________________\n"
     ]
    }
   ],
   "source": [
    "cnn_intermediate_layer_model.summary()"
   ]
  },
  {
   "cell_type": "code",
   "execution_count": 12,
   "id": "b024a235",
   "metadata": {},
   "outputs": [
    {
     "name": "stdout",
     "output_type": "stream",
     "text": [
      "156250/156250 [==============================] - 424s 3ms/step\n"
     ]
    }
   ],
   "source": [
    "cnn_intermediate_output = cnn_intermediate_layer_model.predict(train, steps = X_train.shape[0]//64) "
   ]
  },
  {
   "cell_type": "code",
   "execution_count": 13,
   "id": "4256f2a2",
   "metadata": {},
   "outputs": [
    {
     "name": "stdout",
     "output_type": "stream",
     "text": [
      "78125/78125 [==============================] - 234s 3ms/step\n"
     ]
    }
   ],
   "source": [
    "cnn_intermediate_test_output = cnn_intermediate_layer_model.predict(test, steps = X_test.shape[0]//64)"
   ]
  },
  {
   "cell_type": "code",
   "execution_count": 14,
   "id": "4b0dfa96",
   "metadata": {},
   "outputs": [
    {
     "data": {
      "text/html": [
       "<style>#sk-container-id-1 {color: black;background-color: white;}#sk-container-id-1 pre{padding: 0;}#sk-container-id-1 div.sk-toggleable {background-color: white;}#sk-container-id-1 label.sk-toggleable__label {cursor: pointer;display: block;width: 100%;margin-bottom: 0;padding: 0.3em;box-sizing: border-box;text-align: center;}#sk-container-id-1 label.sk-toggleable__label-arrow:before {content: \"▸\";float: left;margin-right: 0.25em;color: #696969;}#sk-container-id-1 label.sk-toggleable__label-arrow:hover:before {color: black;}#sk-container-id-1 div.sk-estimator:hover label.sk-toggleable__label-arrow:before {color: black;}#sk-container-id-1 div.sk-toggleable__content {max-height: 0;max-width: 0;overflow: hidden;text-align: left;background-color: #f0f8ff;}#sk-container-id-1 div.sk-toggleable__content pre {margin: 0.2em;color: black;border-radius: 0.25em;background-color: #f0f8ff;}#sk-container-id-1 input.sk-toggleable__control:checked~div.sk-toggleable__content {max-height: 200px;max-width: 100%;overflow: auto;}#sk-container-id-1 input.sk-toggleable__control:checked~label.sk-toggleable__label-arrow:before {content: \"▾\";}#sk-container-id-1 div.sk-estimator input.sk-toggleable__control:checked~label.sk-toggleable__label {background-color: #d4ebff;}#sk-container-id-1 div.sk-label input.sk-toggleable__control:checked~label.sk-toggleable__label {background-color: #d4ebff;}#sk-container-id-1 input.sk-hidden--visually {border: 0;clip: rect(1px 1px 1px 1px);clip: rect(1px, 1px, 1px, 1px);height: 1px;margin: -1px;overflow: hidden;padding: 0;position: absolute;width: 1px;}#sk-container-id-1 div.sk-estimator {font-family: monospace;background-color: #f0f8ff;border: 1px dotted black;border-radius: 0.25em;box-sizing: border-box;margin-bottom: 0.5em;}#sk-container-id-1 div.sk-estimator:hover {background-color: #d4ebff;}#sk-container-id-1 div.sk-parallel-item::after {content: \"\";width: 100%;border-bottom: 1px solid gray;flex-grow: 1;}#sk-container-id-1 div.sk-label:hover label.sk-toggleable__label {background-color: #d4ebff;}#sk-container-id-1 div.sk-serial::before {content: \"\";position: absolute;border-left: 1px solid gray;box-sizing: border-box;top: 0;bottom: 0;left: 50%;z-index: 0;}#sk-container-id-1 div.sk-serial {display: flex;flex-direction: column;align-items: center;background-color: white;padding-right: 0.2em;padding-left: 0.2em;position: relative;}#sk-container-id-1 div.sk-item {position: relative;z-index: 1;}#sk-container-id-1 div.sk-parallel {display: flex;align-items: stretch;justify-content: center;background-color: white;position: relative;}#sk-container-id-1 div.sk-item::before, #sk-container-id-1 div.sk-parallel-item::before {content: \"\";position: absolute;border-left: 1px solid gray;box-sizing: border-box;top: 0;bottom: 0;left: 50%;z-index: -1;}#sk-container-id-1 div.sk-parallel-item {display: flex;flex-direction: column;z-index: 1;position: relative;background-color: white;}#sk-container-id-1 div.sk-parallel-item:first-child::after {align-self: flex-end;width: 50%;}#sk-container-id-1 div.sk-parallel-item:last-child::after {align-self: flex-start;width: 50%;}#sk-container-id-1 div.sk-parallel-item:only-child::after {width: 0;}#sk-container-id-1 div.sk-dashed-wrapped {border: 1px dashed gray;margin: 0 0.4em 0.5em 0.4em;box-sizing: border-box;padding-bottom: 0.4em;background-color: white;}#sk-container-id-1 div.sk-label label {font-family: monospace;font-weight: bold;display: inline-block;line-height: 1.2em;}#sk-container-id-1 div.sk-label-container {text-align: center;}#sk-container-id-1 div.sk-container {/* jupyter's `normalize.less` sets `[hidden] { display: none; }` but bootstrap.min.css set `[hidden] { display: none !important; }` so we also need the `!important` here to be able to override the default hidden behavior on the sphinx rendered scikit-learn.org. See: https://github.com/scikit-learn/scikit-learn/issues/21755 */display: inline-block !important;position: relative;}#sk-container-id-1 div.sk-text-repr-fallback {display: none;}</style><div id=\"sk-container-id-1\" class=\"sk-top-container\"><div class=\"sk-text-repr-fallback\"><pre>XGBClassifier(base_score=None, booster=&#x27;gbtree&#x27;, callbacks=None,\n",
       "              colsample_bylevel=None, colsample_bynode=None,\n",
       "              colsample_bytree=None, early_stopping_rounds=None,\n",
       "              enable_categorical=False, eval_metric=None, feature_types=None,\n",
       "              gamma=None, gpu_id=None, grow_policy=None, importance_type=None,\n",
       "              interaction_constraints=None, learning_rate=0.1, max_bin=None,\n",
       "              max_cat_threshold=None, max_cat_to_onehot=None,\n",
       "              max_delta_step=None, max_depth=5, max_leaves=None,\n",
       "              min_child_weight=1.2, missing=nan, monotone_constraints=None,\n",
       "              n_estimators=120, n_jobs=None, num_parallel_tree=None,\n",
       "              predictor=None, random_state=42, ...)</pre><b>In a Jupyter environment, please rerun this cell to show the HTML representation or trust the notebook. <br />On GitHub, the HTML representation is unable to render, please try loading this page with nbviewer.org.</b></div><div class=\"sk-container\" hidden><div class=\"sk-item\"><div class=\"sk-estimator sk-toggleable\"><input class=\"sk-toggleable__control sk-hidden--visually\" id=\"sk-estimator-id-1\" type=\"checkbox\" checked><label for=\"sk-estimator-id-1\" class=\"sk-toggleable__label sk-toggleable__label-arrow\">XGBClassifier</label><div class=\"sk-toggleable__content\"><pre>XGBClassifier(base_score=None, booster=&#x27;gbtree&#x27;, callbacks=None,\n",
       "              colsample_bylevel=None, colsample_bynode=None,\n",
       "              colsample_bytree=None, early_stopping_rounds=None,\n",
       "              enable_categorical=False, eval_metric=None, feature_types=None,\n",
       "              gamma=None, gpu_id=None, grow_policy=None, importance_type=None,\n",
       "              interaction_constraints=None, learning_rate=0.1, max_bin=None,\n",
       "              max_cat_threshold=None, max_cat_to_onehot=None,\n",
       "              max_delta_step=None, max_depth=5, max_leaves=None,\n",
       "              min_child_weight=1.2, missing=nan, monotone_constraints=None,\n",
       "              n_estimators=120, n_jobs=None, num_parallel_tree=None,\n",
       "              predictor=None, random_state=42, ...)</pre></div></div></div></div></div>"
      ],
      "text/plain": [
       "XGBClassifier(base_score=None, booster='gbtree', callbacks=None,\n",
       "              colsample_bylevel=None, colsample_bynode=None,\n",
       "              colsample_bytree=None, early_stopping_rounds=None,\n",
       "              enable_categorical=False, eval_metric=None, feature_types=None,\n",
       "              gamma=None, gpu_id=None, grow_policy=None, importance_type=None,\n",
       "              interaction_constraints=None, learning_rate=0.1, max_bin=None,\n",
       "              max_cat_threshold=None, max_cat_to_onehot=None,\n",
       "              max_delta_step=None, max_depth=5, max_leaves=None,\n",
       "              min_child_weight=1.2, missing=nan, monotone_constraints=None,\n",
       "              n_estimators=120, n_jobs=None, num_parallel_tree=None,\n",
       "              predictor=None, random_state=42, ...)"
      ]
     },
     "execution_count": 14,
     "metadata": {},
     "output_type": "execute_result"
    }
   ],
   "source": [
    "xgb.fit(cnn_intermediate_output, y_train)"
   ]
  },
  {
   "cell_type": "code",
   "execution_count": 15,
   "id": "6e021d0c",
   "metadata": {},
   "outputs": [],
   "source": [
    "xgb_predtest = xgb.predict(cnn_intermediate_test_output)"
   ]
  },
  {
   "cell_type": "code",
   "execution_count": 16,
   "id": "1817d916",
   "metadata": {},
   "outputs": [
    {
     "name": "stdout",
     "output_type": "stream",
     "text": [
      "Test ROC AUC: 0.9462232591203202\n"
     ]
    }
   ],
   "source": [
    "# Evaluate on test set\n",
    "cnnxgy_hat = xgb.predict_proba(cnn_intermediate_test_output)[:, 1]\n",
    "cnnfpr_xg, cnntpr_xg, _ = roc_curve(y_test, cnnxgy_hat)\n",
    "cnnxgroc_auc = auc(cnnfpr_xg, cnntpr_xg)\n",
    "print('Test ROC AUC:', cnnxgroc_auc)"
   ]
  },
  {
   "cell_type": "code",
   "execution_count": 23,
   "id": "8a05d601",
   "metadata": {},
   "outputs": [
    {
     "data": {
      "image/png": "[encoded data removed]",
      "text/plain": [
       "<Figure size 640x480 with 2 Axes>"
      ]
     },
     "metadata": {},
     "output_type": "display_data"
    }
   ],
   "source": [
    "sns.set_context('talk')\n",
    "cnn_cm = confusion_matrix(y_test, np.where(cnnxgy_hat>0.5, 1, 0))\n",
    "cnn_ax = sns.heatmap(cnn_cm/np.sum(cnn_cm), annot=True, fmt='.5%', cmap='Blues')\n",
    "plt.savefig(\"traditional_cnn+xgb confusion matrix.png\", dpi = 1200)"
   ]
  },
  {
   "cell_type": "code",
   "execution_count": null,
   "id": "c7e59161",
   "metadata": {},
   "outputs": [],
   "source": [
    "##############################################################################################################################"
   ]
  },
  {
   "cell_type": "code",
   "execution_count": null,
   "id": "82146caf",
   "metadata": {},
   "outputs": [],
   "source": [
    "##############################################################################################################################"
   ]
  },
  {
   "cell_type": "code",
   "execution_count": null,
   "id": "2c2f31df",
   "metadata": {},
   "outputs": [],
   "source": [
    "#For a stack model"
   ]
  },
  {
   "cell_type": "code",
   "execution_count": 8,
   "id": "51681021",
   "metadata": {},
   "outputs": [
    {
     "name": "stdout",
     "output_type": "stream",
     "text": [
      "Model: \"model_2\"\n",
      "_________________________________________________________________\n",
      " Layer (type)                Output Shape              Param #   \n",
      "=================================================================\n",
      " input_3 (InputLayer)        [(64, 1, 32, 32)]         0         \n",
      "                                                                 \n",
      " conv2d_4 (Conv2D)           (64, 32, 32, 32)          160       \n",
      "                                                                 \n",
      " conv2d_5 (Conv2D)           (64, 32, 32, 32)          4128      \n",
      "                                                                 \n",
      " max_pooling2d_2 (MaxPooling  (64, 32, 16, 16)         0         \n",
      " 2D)                                                             \n",
      "                                                                 \n",
      " fourier_convolution2d_4 (Fo  (64, 64, 16, 16)         8192      \n",
      " urierConvolution2D)                                             \n",
      "                                                                 \n",
      " fourier_convolution2d_5 (Fo  (64, 64, 16, 16)         16384     \n",
      " urierConvolution2D)                                             \n",
      "                                                                 \n",
      " flatten_2 (Flatten)         (64, 16384)               0         \n",
      "                                                                 \n",
      " dense_6 (Dense)             (64, 128)                 2097280   \n",
      "                                                                 \n",
      " dropout_4 (Dropout)         (64, 128)                 0         \n",
      "                                                                 \n",
      " dense_7 (Dense)             (64, 32)                  4128      \n",
      "                                                                 \n",
      " dropout_5 (Dropout)         (64, 32)                  0         \n",
      "                                                                 \n",
      " dense_8 (Dense)             (64, 1)                   33        \n",
      "                                                                 \n",
      "=================================================================\n",
      "Total params: 2,130,305\n",
      "Trainable params: 2,130,305\n",
      "Non-trainable params: 0\n",
      "_________________________________________________________________\n"
     ]
    }
   ],
   "source": [
    "model3.summary()"
   ]
  },
  {
   "cell_type": "code",
   "execution_count": 11,
   "id": "a5abfcb5",
   "metadata": {},
   "outputs": [],
   "source": [
    "stack_intermediate_layer_model = keras.Model(inputs=model3.inputs, outputs=model3.get_layer(\"dense_7\").output)"
   ]
  },
  {
   "cell_type": "code",
   "execution_count": 12,
   "id": "eeaca5fa",
   "metadata": {},
   "outputs": [
    {
     "name": "stdout",
     "output_type": "stream",
     "text": [
      "Model: \"model_1\"\n",
      "_________________________________________________________________\n",
      " Layer (type)                Output Shape              Param #   \n",
      "=================================================================\n",
      " input_3 (InputLayer)        [(64, 1, 32, 32)]         0         \n",
      "                                                                 \n",
      " conv2d_4 (Conv2D)           (64, 32, 32, 32)          160       \n",
      "                                                                 \n",
      " conv2d_5 (Conv2D)           (64, 32, 32, 32)          4128      \n",
      "                                                                 \n",
      " max_pooling2d_2 (MaxPooling  (64, 32, 16, 16)         0         \n",
      " 2D)                                                             \n",
      "                                                                 \n",
      " fourier_convolution2d_4 (Fo  (64, 64, 16, 16)         8192      \n",
      " urierConvolution2D)                                             \n",
      "                                                                 \n",
      " fourier_convolution2d_5 (Fo  (64, 64, 16, 16)         16384     \n",
      " urierConvolution2D)                                             \n",
      "                                                                 \n",
      " flatten_2 (Flatten)         (64, 16384)               0         \n",
      "                                                                 \n",
      " dense_6 (Dense)             (64, 128)                 2097280   \n",
      "                                                                 \n",
      " dropout_4 (Dropout)         (64, 128)                 0         \n",
      "                                                                 \n",
      " dense_7 (Dense)             (64, 32)                  4128      \n",
      "                                                                 \n",
      "=================================================================\n",
      "Total params: 2,130,272\n",
      "Trainable params: 2,130,272\n",
      "Non-trainable params: 0\n",
      "_________________________________________________________________\n"
     ]
    }
   ],
   "source": [
    "stack_intermediate_layer_model.summary()"
   ]
  },
  {
   "cell_type": "code",
   "execution_count": 14,
   "id": "8ed259df",
   "metadata": {},
   "outputs": [
    {
     "name": "stdout",
     "output_type": "stream",
     "text": [
      "156250/156250 [==============================] - 515s 3ms/step\n"
     ]
    }
   ],
   "source": [
    "stack_intermediate_output = stack_intermediate_layer_model.predict(train, steps = X_train.shape[0]//64) "
   ]
  },
  {
   "cell_type": "code",
   "execution_count": 15,
   "id": "da836d45",
   "metadata": {},
   "outputs": [
    {
     "name": "stdout",
     "output_type": "stream",
     "text": [
      "78125/78125 [==============================] - 374s 5ms/step\n"
     ]
    }
   ],
   "source": [
    "stack_intermediate_test_output = stack_intermediate_layer_model.predict(test, steps = X_test.shape[0]//64)"
   ]
  },
  {
   "cell_type": "code",
   "execution_count": 18,
   "id": "4556bec7",
   "metadata": {},
   "outputs": [
    {
     "data": {
      "text/html": [
       "<style>#sk-container-id-1 {color: black;background-color: white;}#sk-container-id-1 pre{padding: 0;}#sk-container-id-1 div.sk-toggleable {background-color: white;}#sk-container-id-1 label.sk-toggleable__label {cursor: pointer;display: block;width: 100%;margin-bottom: 0;padding: 0.3em;box-sizing: border-box;text-align: center;}#sk-container-id-1 label.sk-toggleable__label-arrow:before {content: \"▸\";float: left;margin-right: 0.25em;color: #696969;}#sk-container-id-1 label.sk-toggleable__label-arrow:hover:before {color: black;}#sk-container-id-1 div.sk-estimator:hover label.sk-toggleable__label-arrow:before {color: black;}#sk-container-id-1 div.sk-toggleable__content {max-height: 0;max-width: 0;overflow: hidden;text-align: left;background-color: #f0f8ff;}#sk-container-id-1 div.sk-toggleable__content pre {margin: 0.2em;color: black;border-radius: 0.25em;background-color: #f0f8ff;}#sk-container-id-1 input.sk-toggleable__control:checked~div.sk-toggleable__content {max-height: 200px;max-width: 100%;overflow: auto;}#sk-container-id-1 input.sk-toggleable__control:checked~label.sk-toggleable__label-arrow:before {content: \"▾\";}#sk-container-id-1 div.sk-estimator input.sk-toggleable__control:checked~label.sk-toggleable__label {background-color: #d4ebff;}#sk-container-id-1 div.sk-label input.sk-toggleable__control:checked~label.sk-toggleable__label {background-color: #d4ebff;}#sk-container-id-1 input.sk-hidden--visually {border: 0;clip: rect(1px 1px 1px 1px);clip: rect(1px, 1px, 1px, 1px);height: 1px;margin: -1px;overflow: hidden;padding: 0;position: absolute;width: 1px;}#sk-container-id-1 div.sk-estimator {font-family: monospace;background-color: #f0f8ff;border: 1px dotted black;border-radius: 0.25em;box-sizing: border-box;margin-bottom: 0.5em;}#sk-container-id-1 div.sk-estimator:hover {background-color: #d4ebff;}#sk-container-id-1 div.sk-parallel-item::after {content: \"\";width: 100%;border-bottom: 1px solid gray;flex-grow: 1;}#sk-container-id-1 div.sk-label:hover label.sk-toggleable__label {background-color: #d4ebff;}#sk-container-id-1 div.sk-serial::before {content: \"\";position: absolute;border-left: 1px solid gray;box-sizing: border-box;top: 0;bottom: 0;left: 50%;z-index: 0;}#sk-container-id-1 div.sk-serial {display: flex;flex-direction: column;align-items: center;background-color: white;padding-right: 0.2em;padding-left: 0.2em;position: relative;}#sk-container-id-1 div.sk-item {position: relative;z-index: 1;}#sk-container-id-1 div.sk-parallel {display: flex;align-items: stretch;justify-content: center;background-color: white;position: relative;}#sk-container-id-1 div.sk-item::before, #sk-container-id-1 div.sk-parallel-item::before {content: \"\";position: absolute;border-left: 1px solid gray;box-sizing: border-box;top: 0;bottom: 0;left: 50%;z-index: -1;}#sk-container-id-1 div.sk-parallel-item {display: flex;flex-direction: column;z-index: 1;position: relative;background-color: white;}#sk-container-id-1 div.sk-parallel-item:first-child::after {align-self: flex-end;width: 50%;}#sk-container-id-1 div.sk-parallel-item:last-child::after {align-self: flex-start;width: 50%;}#sk-container-id-1 div.sk-parallel-item:only-child::after {width: 0;}#sk-container-id-1 div.sk-dashed-wrapped {border: 1px dashed gray;margin: 0 0.4em 0.5em 0.4em;box-sizing: border-box;padding-bottom: 0.4em;background-color: white;}#sk-container-id-1 div.sk-label label {font-family: monospace;font-weight: bold;display: inline-block;line-height: 1.2em;}#sk-container-id-1 div.sk-label-container {text-align: center;}#sk-container-id-1 div.sk-container {/* jupyter's `normalize.less` sets `[hidden] { display: none; }` but bootstrap.min.css set `[hidden] { display: none !important; }` so we also need the `!important` here to be able to override the default hidden behavior on the sphinx rendered scikit-learn.org. See: https://github.com/scikit-learn/scikit-learn/issues/21755 */display: inline-block !important;position: relative;}#sk-container-id-1 div.sk-text-repr-fallback {display: none;}</style><div id=\"sk-container-id-1\" class=\"sk-top-container\"><div class=\"sk-text-repr-fallback\"><pre>XGBClassifier(base_score=None, booster=&#x27;gbtree&#x27;, callbacks=None,\n",
       "              colsample_bylevel=None, colsample_bynode=None,\n",
       "              colsample_bytree=None, early_stopping_rounds=None,\n",
       "              enable_categorical=False, eval_metric=None, feature_types=None,\n",
       "              gamma=None, gpu_id=None, grow_policy=None, importance_type=None,\n",
       "              interaction_constraints=None, learning_rate=0.07, max_bin=None,\n",
       "              max_cat_threshold=None, max_cat_to_onehot=None,\n",
       "              max_delta_step=None, max_depth=7, max_leaves=None,\n",
       "              min_child_weight=0.0025, min_split_loss=0.1, missing=nan,\n",
       "              monotone_constraints=None, n_estimators=120, n_jobs=None,\n",
       "              num_parallel_tree=None, predictor=None, ...)</pre><b>In a Jupyter environment, please rerun this cell to show the HTML representation or trust the notebook. <br />On GitHub, the HTML representation is unable to render, please try loading this page with nbviewer.org.</b></div><div class=\"sk-container\" hidden><div class=\"sk-item\"><div class=\"sk-estimator sk-toggleable\"><input class=\"sk-toggleable__control sk-hidden--visually\" id=\"sk-estimator-id-1\" type=\"checkbox\" checked><label for=\"sk-estimator-id-1\" class=\"sk-toggleable__label sk-toggleable__label-arrow\">XGBClassifier</label><div class=\"sk-toggleable__content\"><pre>XGBClassifier(base_score=None, booster=&#x27;gbtree&#x27;, callbacks=None,\n",
       "              colsample_bylevel=None, colsample_bynode=None,\n",
       "              colsample_bytree=None, early_stopping_rounds=None,\n",
       "              enable_categorical=False, eval_metric=None, feature_types=None,\n",
       "              gamma=None, gpu_id=None, grow_policy=None, importance_type=None,\n",
       "              interaction_constraints=None, learning_rate=0.07, max_bin=None,\n",
       "              max_cat_threshold=None, max_cat_to_onehot=None,\n",
       "              max_delta_step=None, max_depth=7, max_leaves=None,\n",
       "              min_child_weight=0.0025, min_split_loss=0.1, missing=nan,\n",
       "              monotone_constraints=None, n_estimators=120, n_jobs=None,\n",
       "              num_parallel_tree=None, predictor=None, ...)</pre></div></div></div></div></div>"
      ],
      "text/plain": [
       "XGBClassifier(base_score=None, booster='gbtree', callbacks=None,\n",
       "              colsample_bylevel=None, colsample_bynode=None,\n",
       "              colsample_bytree=None, early_stopping_rounds=None,\n",
       "              enable_categorical=False, eval_metric=None, feature_types=None,\n",
       "              gamma=None, gpu_id=None, grow_policy=None, importance_type=None,\n",
       "              interaction_constraints=None, learning_rate=0.07, max_bin=None,\n",
       "              max_cat_threshold=None, max_cat_to_onehot=None,\n",
       "              max_delta_step=None, max_depth=7, max_leaves=None,\n",
       "              min_child_weight=0.0025, min_split_loss=0.1, missing=nan,\n",
       "              monotone_constraints=None, n_estimators=120, n_jobs=None,\n",
       "              num_parallel_tree=None, predictor=None, ...)"
      ]
     },
     "execution_count": 18,
     "metadata": {},
     "output_type": "execute_result"
    }
   ],
   "source": [
    "xgb.fit(stack_intermediate_output, y_train)"
   ]
  },
  {
   "cell_type": "code",
   "execution_count": 19,
   "id": "726b9857",
   "metadata": {},
   "outputs": [],
   "source": [
    "stackxgb_predtest = xgb.predict(stack_intermediate_test_output)"
   ]
  },
  {
   "cell_type": "code",
   "execution_count": 20,
   "id": "99e0dbd9",
   "metadata": {},
   "outputs": [
    {
     "name": "stdout",
     "output_type": "stream",
     "text": [
      "Test ROC AUC: 0.9457678645892796\n"
     ]
    }
   ],
   "source": [
    "# Evaluate on test set\n",
    "stackxgy_hat = xgb.predict_proba(stack_intermediate_test_output)[:, 1]\n",
    "stackxg_fpr, stackxg_tpr, _ = roc_curve(y_test, stackxgy_hat)\n",
    "stackxgroc_auc = auc(stackxg_fpr, stackxg_tpr)\n",
    "print('Test ROC AUC:', stackxgroc_auc)"
   ]
  },
  {
   "cell_type": "code",
   "execution_count": 21,
   "id": "1f407b9e",
   "metadata": {},
   "outputs": [
    {
     "data": {
      "image/png": "[encoded data removed]",
      "text/plain": [
       "<Figure size 640x480 with 2 Axes>"
      ]
     },
     "metadata": {},
     "output_type": "display_data"
    }
   ],
   "source": [
    "sns.set_context('talk')\n",
    "stack_cm = confusion_matrix(y_test, np.where(stackxgy_hat > 0.5, 1, 0))\n",
    "stack_ax = sns.heatmap(stack_cm/np.sum(stack_cm), annot=True, fmt='.5%', cmap='Blues')\n",
    "plt.savefig(\"stack+xgb confusion matrix.png\", dpi = 1200)"
   ]
  }
 ],
 "metadata": {
  "kernelspec": {
   "display_name": "Python 3 (ipykernel)",
   "language": "python",
   "name": "python3"
  },
  "language_info": {
   "codemirror_mode": {
    "name": "ipython",
    "version": 3
   },
   "file_extension": ".py",
   "mimetype": "text/x-python",
   "name": "python",
   "nbconvert_exporter": "python",
   "pygments_lexer": "ipython3",
   "version": "3.10.9"
  }
 },
 "nbformat": 4,
 "nbformat_minor": 5
}
