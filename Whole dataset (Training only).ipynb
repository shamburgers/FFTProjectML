{
 "cells": [
  {
   "cell_type": "code",
   "execution_count": 1,
   "id": "cc7f8e1c",
   "metadata": {},
   "outputs": [
    {
     "data": {
      "text/plain": [
       "[PhysicalDevice(name='/physical_device:GPU:0', device_type='GPU')]"
      ]
     },
     "execution_count": 1,
     "metadata": {},
     "output_type": "execute_result"
    }
   ],
   "source": [
    "import h5py\n",
    "import tensorflow as tf\n",
    "import keras\n",
    "import dask.array as da\n",
    "#Check if GPU is being used and import other necessary libraries\n",
    "tf.config.list_physical_devices('GPU')"
   ]
  },
  {
   "cell_type": "code",
   "execution_count": 2,
   "id": "d85eedd9",
   "metadata": {},
   "outputs": [],
   "source": [
    "#Again, just import some necessary libraries as part of the preamble in training our dataset\n",
    "import numpy as np\n",
    "np.random.seed(1337)  # for reproducibility\n",
    "from keras.models import Sequential\n",
    "from keras.initializers import TruncatedNormal, Zeros\n",
    "from keras.layers import Input, Dense, Dropout, Flatten, MaxPooling2D, Conv2D\n",
    "from keras.callbacks import ReduceLROnPlateau\n",
    "from sklearn.metrics import roc_curve, auc, classification_report, confusion_matrix, roc_auc_score, accuracy_score\n",
    "import matplotlib.pyplot as plt\n",
    "from sklearn.model_selection import train_test_split"
   ]
  },
  {
   "cell_type": "code",
   "execution_count": 3,
   "id": "111bdb2b",
   "metadata": {},
   "outputs": [],
   "source": [
    "#Just define some variables for the training set and test set\n",
    "f = h5py.File(\"train_pile_10000000.h5\", \"r\")\n",
    "g = h5py.File(\"test_pile_5000000.h5\", \"r\")"
   ]
  },
  {
   "cell_type": "code",
   "execution_count": 4,
   "id": "12ed5776",
   "metadata": {},
   "outputs": [
    {
     "name": "stdout",
     "output_type": "stream",
     "text": [
      "['features', 'targets']\n",
      "['features', 'targets']\n"
     ]
    }
   ],
   "source": [
    "#Print a dictionary to see how the dataset looks like\n",
    "print(list(f.keys()))\n",
    "print(list(g.keys()))"
   ]
  },
  {
   "cell_type": "code",
   "execution_count": 5,
   "id": "0b35b8a4",
   "metadata": {},
   "outputs": [],
   "source": [
    "X_train = da.from_array(f['features'], chunks=(200000, 1, 32,32))\n",
    "y_train =  da.from_array(f['targets'], chunks=(200000,1))\n",
    "X_test = da.from_array(g['features'], chunks=(200000, 1, 32,32))\n",
    "y_test =  da.from_array(g['targets'], chunks=(200000,1))"
   ]
  },
  {
   "cell_type": "code",
   "execution_count": 6,
   "id": "780691e0",
   "metadata": {},
   "outputs": [],
   "source": [
    "X_val = X_train[8000000:]\n",
    "y_val = y_train[8000000:]\n",
    "X_train = X_train[:8000000]\n",
    "y_train = y_train[:8000000]"
   ]
  },
  {
   "cell_type": "code",
   "execution_count": 7,
   "id": "ab255c5f",
   "metadata": {},
   "outputs": [
    {
     "data": {
      "text/plain": [
       "((8000000, 1, 32, 32),\n",
       " (8000000, 1),\n",
       " (2000000, 1, 32, 32),\n",
       " (2000000, 1),\n",
       " (5000000, 1, 32, 32),\n",
       " (5000000, 1))"
      ]
     },
     "execution_count": 7,
     "metadata": {},
     "output_type": "execute_result"
    }
   ],
   "source": [
    "X_train.shape, y_train.shape, X_val.shape,  y_val.shape, X_test.shape, y_test.shape"
   ]
  },
  {
   "cell_type": "code",
   "execution_count": 8,
   "id": "0c47c0bc",
   "metadata": {},
   "outputs": [],
   "source": [
    "def dask_generator(X, y, batch_size):\n",
    "    instances = X.shape[0]\n",
    "    batches = instances // batch_size\n",
    "    while True:\n",
    "        for i in range(batches):\n",
    "            X_batch = X[i*batch_size:(i+1)*batch_size]\n",
    "            y_batch = y[i*batch_size:(i+1)*batch_size]\n",
    "            yield X_batch, y_batch"
   ]
  },
  {
   "cell_type": "code",
   "execution_count": 9,
   "id": "c31cb6f9",
   "metadata": {},
   "outputs": [],
   "source": [
    "batch_size = 64\n",
    "train = dask_generator(X_train, y_train, batch_size)\n",
    "test = dask_generator(X_test, y_test, batch_size)\n",
    "val = dask_generator(X_val, y_val, batch_size)"
   ]
  },
  {
   "cell_type": "code",
   "execution_count": null,
   "id": "3fec3caf",
   "metadata": {},
   "outputs": [],
   "source": [
    "###############################################################################################################################"
   ]
  },
  {
   "cell_type": "code",
   "execution_count": null,
   "id": "e880d69a",
   "metadata": {},
   "outputs": [],
   "source": [
    "###############################################################################################################################"
   ]
  },
  {
   "cell_type": "code",
   "execution_count": null,
   "id": "59e40e39",
   "metadata": {},
   "outputs": [],
   "source": [
    "#Train for Traditional Conv2D"
   ]
  },
  {
   "cell_type": "code",
   "execution_count": 10,
   "id": "315aae87",
   "metadata": {},
   "outputs": [],
   "source": [
    "inputs1 = Input(shape=(1,32,32), batch_size = 64)\n",
    "x1 = Conv2D(32, kernel_size=2,  padding='same', strides = 1, activation='relu', kernel_initializer='TruncatedNormal',\n",
    "           data_format='channels_first')(inputs1)\n",
    "x1 = Conv2D(32,  kernel_size=2, padding='same', strides = 1, activation='relu',kernel_initializer='TruncatedNormal',\n",
    "           data_format='channels_first')(x1)\n",
    "x1 = MaxPooling2D(pool_size=(2, 2), data_format='channels_first')(x1)\n",
    "x1 = Conv2D(64,  kernel_size=3, padding='same', strides = 1, activation='relu',kernel_initializer='TruncatedNormal',\n",
    "           data_format='channels_first')(x1)\n",
    "x1 = Conv2D(64,  kernel_size=3, padding='same', strides = 1, activation='relu',kernel_initializer='TruncatedNormal',\n",
    "           data_format='channels_first')(x1)\n",
    "x1 = Flatten()(x1)\n",
    "x1 = Dense(128, activation='relu', kernel_initializer='TruncatedNormal')(x1)\n",
    "x1 = Dropout(0.2)(x1)\n",
    "x1 = Dense(32, activation='relu', kernel_initializer='TruncatedNormal')(x1)\n",
    "x1 = Dropout(0.2)(x1)\n",
    "outputs1 = Dense(1, activation='sigmoid', kernel_initializer='TruncatedNormal')(x1)\n",
    "conv2d = keras.Model(inputs=inputs1, outputs=outputs1)"
   ]
  },
  {
   "cell_type": "code",
   "execution_count": 13,
   "id": "955feb29",
   "metadata": {},
   "outputs": [],
   "source": [
    "conv2d.compile(loss = \"binary_crossentropy\", optimizer = \"adam\", metrics = [\"accuracy\"])\n",
    "lr_scheduler = tf.keras.callbacks.ReduceLROnPlateau(monitor='val_loss', factor=0.1, patience=3, min_lr=1.e-6)\n",
    "early_stopping_cb = tf.keras.callbacks.EarlyStopping(monitor=\"val_loss\",patience=5, restore_best_weights=True)\n",
    "callbacks = [lr_scheduler, early_stopping_cb]"
   ]
  },
  {
   "cell_type": "code",
   "execution_count": 14,
   "id": "c90b8218",
   "metadata": {
    "scrolled": false
   },
   "outputs": [
    {
     "name": "stdout",
     "output_type": "stream",
     "text": [
      "Epoch 1/100\n",
      "125000/125000 [==============================] - 805s 6ms/step - loss: 0.3242 - accuracy: 0.8710 - val_loss: 0.3139 - val_accuracy: 0.8742 - lr: 0.0010\n",
      "Epoch 2/100\n",
      "125000/125000 [==============================] - 800s 6ms/step - loss: 0.3133 - accuracy: 0.8762 - val_loss: 0.3033 - val_accuracy: 0.8779 - lr: 0.0010\n",
      "Epoch 3/100\n",
      "125000/125000 [==============================] - 799s 6ms/step - loss: 0.3118 - accuracy: 0.8769 - val_loss: 0.3050 - val_accuracy: 0.8773 - lr: 0.0010\n",
      "Epoch 4/100\n",
      "125000/125000 [==============================] - 799s 6ms/step - loss: 0.3115 - accuracy: 0.8771 - val_loss: 0.3045 - val_accuracy: 0.8781 - lr: 0.0010\n",
      "Epoch 5/100\n",
      "125000/125000 [==============================] - 797s 6ms/step - loss: 0.3116 - accuracy: 0.8772 - val_loss: 0.3046 - val_accuracy: 0.8782 - lr: 0.0010\n",
      "Epoch 6/100\n",
      "125000/125000 [==============================] - 796s 6ms/step - loss: 0.3010 - accuracy: 0.8811 - val_loss: 0.2973 - val_accuracy: 0.8812 - lr: 1.0000e-04\n",
      "Epoch 7/100\n",
      "125000/125000 [==============================] - 805s 6ms/step - loss: 0.2999 - accuracy: 0.8816 - val_loss: 0.2964 - val_accuracy: 0.8815 - lr: 1.0000e-04\n",
      "Epoch 8/100\n",
      "125000/125000 [==============================] - 800s 6ms/step - loss: 0.2994 - accuracy: 0.8818 - val_loss: 0.2964 - val_accuracy: 0.8816 - lr: 1.0000e-04\n",
      "Epoch 9/100\n",
      "125000/125000 [==============================] - 831s 7ms/step - loss: 0.2991 - accuracy: 0.8819 - val_loss: 0.2963 - val_accuracy: 0.8816 - lr: 1.0000e-04\n",
      "Epoch 10/100\n",
      "125000/125000 [==============================] - 818s 7ms/step - loss: 0.2988 - accuracy: 0.8821 - val_loss: 0.2961 - val_accuracy: 0.8817 - lr: 1.0000e-04\n",
      "Epoch 11/100\n",
      "125000/125000 [==============================] - 828s 7ms/step - loss: 0.2987 - accuracy: 0.8821 - val_loss: 0.2961 - val_accuracy: 0.8817 - lr: 1.0000e-04\n",
      "Epoch 12/100\n",
      "125000/125000 [==============================] - 836s 7ms/step - loss: 0.2985 - accuracy: 0.8822 - val_loss: 0.2960 - val_accuracy: 0.8818 - lr: 1.0000e-04\n",
      "Epoch 13/100\n",
      "125000/125000 [==============================] - 791s 6ms/step - loss: 0.2985 - accuracy: 0.8823 - val_loss: 0.2964 - val_accuracy: 0.8816 - lr: 1.0000e-04\n",
      "Epoch 14/100\n",
      "125000/125000 [==============================] - 811s 6ms/step - loss: 0.2972 - accuracy: 0.8826 - val_loss: 0.2953 - val_accuracy: 0.8820 - lr: 1.0000e-05\n",
      "Epoch 15/100\n",
      "125000/125000 [==============================] - 819s 7ms/step - loss: 0.2969 - accuracy: 0.8828 - val_loss: 0.2953 - val_accuracy: 0.8820 - lr: 1.0000e-05\n",
      "Epoch 16/100\n",
      "125000/125000 [==============================] - 815s 7ms/step - loss: 0.2969 - accuracy: 0.8828 - val_loss: 0.2953 - val_accuracy: 0.8821 - lr: 1.0000e-05\n",
      "Epoch 17/100\n",
      "125000/125000 [==============================] - 834s 7ms/step - loss: 0.2968 - accuracy: 0.8828 - val_loss: 0.2952 - val_accuracy: 0.8821 - lr: 1.0000e-05\n",
      "Epoch 18/100\n",
      "125000/125000 [==============================] - 833s 7ms/step - loss: 0.2968 - accuracy: 0.8828 - val_loss: 0.2952 - val_accuracy: 0.8821 - lr: 1.0000e-05\n",
      "Epoch 19/100\n",
      "125000/125000 [==============================] - 856s 7ms/step - loss: 0.2968 - accuracy: 0.8828 - val_loss: 0.2953 - val_accuracy: 0.8820 - lr: 1.0000e-05\n",
      "Epoch 20/100\n",
      "125000/125000 [==============================] - 836s 7ms/step - loss: 0.2968 - accuracy: 0.8829 - val_loss: 0.2952 - val_accuracy: 0.8821 - lr: 1.0000e-05\n",
      "Epoch 21/100\n",
      "125000/125000 [==============================] - 758s 6ms/step - loss: 0.2967 - accuracy: 0.8830 - val_loss: 0.2952 - val_accuracy: 0.8821 - lr: 1.0000e-06\n",
      "Epoch 22/100\n",
      "125000/125000 [==============================] - 758s 6ms/step - loss: 0.2965 - accuracy: 0.8829 - val_loss: 0.2952 - val_accuracy: 0.8821 - lr: 1.0000e-06\n",
      "Epoch 23/100\n",
      "125000/125000 [==============================] - 816s 7ms/step - loss: 0.2966 - accuracy: 0.8830 - val_loss: 0.2951 - val_accuracy: 0.8821 - lr: 1.0000e-06\n",
      "Epoch 24/100\n",
      "125000/125000 [==============================] - 808s 6ms/step - loss: 0.2966 - accuracy: 0.8830 - val_loss: 0.2951 - val_accuracy: 0.8821 - lr: 1.0000e-06\n",
      "Epoch 25/100\n",
      "125000/125000 [==============================] - 807s 6ms/step - loss: 0.2965 - accuracy: 0.8829 - val_loss: 0.2951 - val_accuracy: 0.8821 - lr: 1.0000e-06\n",
      "Epoch 26/100\n",
      "125000/125000 [==============================] - 846s 7ms/step - loss: 0.2965 - accuracy: 0.8830 - val_loss: 0.2951 - val_accuracy: 0.8821 - lr: 1.0000e-06\n",
      "Epoch 27/100\n",
      "125000/125000 [==============================] - 869s 7ms/step - loss: 0.2965 - accuracy: 0.8830 - val_loss: 0.2951 - val_accuracy: 0.8821 - lr: 1.0000e-06\n",
      "Epoch 28/100\n",
      "125000/125000 [==============================] - 847s 7ms/step - loss: 0.2965 - accuracy: 0.8829 - val_loss: 0.2951 - val_accuracy: 0.8822 - lr: 1.0000e-06\n",
      "Epoch 29/100\n",
      "125000/125000 [==============================] - 869s 7ms/step - loss: 0.2965 - accuracy: 0.8829 - val_loss: 0.2951 - val_accuracy: 0.8821 - lr: 1.0000e-06\n",
      "Epoch 30/100\n",
      "125000/125000 [==============================] - 840s 7ms/step - loss: 0.2965 - accuracy: 0.8829 - val_loss: 0.2951 - val_accuracy: 0.8822 - lr: 1.0000e-06\n"
     ]
    },
    {
     "data": {
      "text/plain": [
       "<keras.callbacks.History at 0x1e56392f1c0>"
      ]
     },
     "execution_count": 14,
     "metadata": {},
     "output_type": "execute_result"
    }
   ],
   "source": [
    "conv2d.fit(train, steps_per_epoch = X_train.shape[0]//64, validation_data = val,\n",
    "           validation_steps = X_val.shape[0]//64, shuffle = True, epochs=100, callbacks = callbacks)"
   ]
  },
  {
   "cell_type": "code",
   "execution_count": null,
   "id": "510e6c22",
   "metadata": {},
   "outputs": [],
   "source": [
    "###############################################################################################################################"
   ]
  },
  {
   "cell_type": "code",
   "execution_count": null,
   "id": "7c850794",
   "metadata": {},
   "outputs": [],
   "source": [
    "###############################################################################################################################"
   ]
  },
  {
   "cell_type": "code",
   "execution_count": null,
   "id": "d67bd46c",
   "metadata": {},
   "outputs": [],
   "source": [
    "#For F-FCNN now"
   ]
  },
  {
   "cell_type": "code",
   "execution_count": 10,
   "id": "d7bf1e92",
   "metadata": {
    "scrolled": true
   },
   "outputs": [
    {
     "name": "stderr",
     "output_type": "stream",
     "text": [
      "C:\\Users\\Sham\\anaconda3\\lib\\site-packages\\tensorflow_addons\\utils\\tfa_eol_msg.py:23: UserWarning: \n",
      "\n",
      "TensorFlow Addons (TFA) has ended development and introduction of new features.\n",
      "TFA has entered a minimal maintenance and release mode until a planned end of life in May 2024.\n",
      "Please modify downstream libraries to take dependencies from other repositories in our TensorFlow community (e.g. Keras, Keras-CV, and Keras-NLP). \n",
      "\n",
      "For more information see: https://github.com/tensorflow/addons/issues/2807 \n",
      "\n",
      "  warnings.warn(\n"
     ]
    }
   ],
   "source": [
    "from DeepSaki.layers import FourierConvolution2D #Import this library for the training"
   ]
  },
  {
   "cell_type": "code",
   "execution_count": 24,
   "id": "511781e5",
   "metadata": {},
   "outputs": [],
   "source": [
    "inputs = keras.Input(shape=(1,32,32), batch_size = 64)\n",
    "x = FourierConvolution2D(filters = 32, kernels = (3,3), kernel_initializer = tf.keras.initializers.TruncatedNormal(),\n",
    "                        use_bias=False, isChannelFirst = True, padToPower2 = True, applyConjugate = False,\n",
    "                        method = \"MATRIX_PRODUCT\")(inputs)\n",
    "x = FourierConvolution2D(filters = 32, kernels = (3,3), kernel_initializer = tf.keras.initializers.TruncatedNormal(),\n",
    "                        use_bias=False, isChannelFirst = True, padToPower2 = True, applyConjugate = False,\n",
    "                        method = \"MATRIX_PRODUCT\")(x)\n",
    "x = MaxPooling2D(pool_size=(2, 2), data_format='channels_first')(x)\n",
    "x = FourierConvolution2D(filters = 64, kernels = (2,2), kernel_initializer = tf.keras.initializers.TruncatedNormal(),\n",
    "                        use_bias=False, isChannelFirst = True, padToPower2 = True, applyConjugate = False,\n",
    "                        method = \"MATRIX_PRODUCT\")(x)\n",
    "x = FourierConvolution2D(filters = 64, kernels = (2,2), kernel_initializer = tf.keras.initializers.TruncatedNormal(),\n",
    "                        use_bias=False, isChannelFirst = True, padToPower2 = True, applyConjugate = False,\n",
    "                        method = \"MATRIX_PRODUCT\")(x)\n",
    "x= Flatten()(x)\n",
    "x = Dense(128, activation='relu', kernel_initializer='TruncatedNormal')(x)\n",
    "x = Dropout(0.2)(x)\n",
    "x = Dense(32, activation='relu', kernel_initializer='TruncatedNormal')(x)\n",
    "x = Dropout(0.2)(x)\n",
    "outputs = Dense(1, activation='sigmoid', kernel_initializer='TruncatedNormal')(x)\n",
    "model = keras.Model(inputs=inputs, outputs=outputs)"
   ]
  },
  {
   "cell_type": "code",
   "execution_count": 25,
   "id": "5c76fe41",
   "metadata": {},
   "outputs": [],
   "source": [
    "model.compile(loss = \"binary_crossentropy\", optimizer = \"adam\", metrics = [\"accuracy\"])"
   ]
  },
  {
   "cell_type": "code",
   "execution_count": 27,
   "id": "e8eb016d",
   "metadata": {
    "scrolled": false
   },
   "outputs": [
    {
     "name": "stdout",
     "output_type": "stream",
     "text": [
      "Epoch 1/100\n",
      "125000/125000 [==============================] - 3669s 29ms/step - loss: 0.3443 - accuracy: 0.8606 - val_loss: 0.3363 - val_accuracy: 0.8653 - lr: 0.0010\n",
      "Epoch 2/100\n",
      "125000/125000 [==============================] - 3659s 29ms/step - loss: 0.3409 - accuracy: 0.8624 - val_loss: 0.3345 - val_accuracy: 0.8663 - lr: 0.0010\n",
      "Epoch 3/100\n",
      "125000/125000 [==============================] - 3660s 29ms/step - loss: 0.3399 - accuracy: 0.8630 - val_loss: 0.3328 - val_accuracy: 0.8663 - lr: 0.0010\n",
      "Epoch 4/100\n",
      "125000/125000 [==============================] - 3667s 29ms/step - loss: 0.3394 - accuracy: 0.8631 - val_loss: 0.3304 - val_accuracy: 0.8676 - lr: 0.0010\n",
      "Epoch 5/100\n",
      "125000/125000 [==============================] - 3674s 29ms/step - loss: 0.3391 - accuracy: 0.8634 - val_loss: 0.3321 - val_accuracy: 0.8677 - lr: 0.0010\n",
      "Epoch 6/100\n",
      "125000/125000 [==============================] - 3673s 29ms/step - loss: 0.3390 - accuracy: 0.8636 - val_loss: 0.3334 - val_accuracy: 0.8671 - lr: 0.0010\n",
      "Epoch 7/100\n",
      "125000/125000 [==============================] - 3674s 29ms/step - loss: 0.3389 - accuracy: 0.8636 - val_loss: 0.3338 - val_accuracy: 0.8667 - lr: 0.0010\n",
      "Epoch 8/100\n",
      "125000/125000 [==============================] - 3673s 29ms/step - loss: 0.3258 - accuracy: 0.8689 - val_loss: 0.3227 - val_accuracy: 0.8704 - lr: 1.0000e-04\n",
      "Epoch 9/100\n",
      "125000/125000 [==============================] - 3683s 29ms/step - loss: 0.3245 - accuracy: 0.8695 - val_loss: 0.3222 - val_accuracy: 0.8704 - lr: 1.0000e-04\n",
      "Epoch 10/100\n",
      "125000/125000 [==============================] - 3691s 30ms/step - loss: 0.3238 - accuracy: 0.8697 - val_loss: 0.3207 - val_accuracy: 0.8707 - lr: 1.0000e-04\n",
      "Epoch 11/100\n",
      "125000/125000 [==============================] - 3688s 30ms/step - loss: 0.3233 - accuracy: 0.8700 - val_loss: 0.3204 - val_accuracy: 0.8711 - lr: 1.0000e-04\n",
      "Epoch 12/100\n",
      "125000/125000 [==============================] - 3684s 29ms/step - loss: 0.3229 - accuracy: 0.8702 - val_loss: 0.3194 - val_accuracy: 0.8715 - lr: 1.0000e-04\n",
      "Epoch 13/100\n",
      "125000/125000 [==============================] - 3687s 29ms/step - loss: 0.3226 - accuracy: 0.8703 - val_loss: 0.3205 - val_accuracy: 0.8711 - lr: 1.0000e-04\n",
      "Epoch 14/100\n",
      "125000/125000 [==============================] - 3691s 30ms/step - loss: 0.3221 - accuracy: 0.8705 - val_loss: 0.3195 - val_accuracy: 0.8716 - lr: 1.0000e-04\n",
      "Epoch 15/100\n",
      "125000/125000 [==============================] - 3690s 30ms/step - loss: 0.3219 - accuracy: 0.8706 - val_loss: 0.3192 - val_accuracy: 0.8715 - lr: 1.0000e-04\n",
      "Epoch 16/100\n",
      "125000/125000 [==============================] - 3692s 30ms/step - loss: 0.3217 - accuracy: 0.8707 - val_loss: 0.3193 - val_accuracy: 0.8715 - lr: 1.0000e-04\n",
      "Epoch 17/100\n",
      "125000/125000 [==============================] - 3695s 30ms/step - loss: 0.3214 - accuracy: 0.8708 - val_loss: 0.3200 - val_accuracy: 0.8717 - lr: 1.0000e-04\n",
      "Epoch 18/100\n",
      "125000/125000 [==============================] - 3666s 29ms/step - loss: 0.3212 - accuracy: 0.8709 - val_loss: 0.3196 - val_accuracy: 0.8714 - lr: 1.0000e-04\n",
      "Epoch 19/100\n",
      "125000/125000 [==============================] - 3574s 29ms/step - loss: 0.3187 - accuracy: 0.8720 - val_loss: 0.3162 - val_accuracy: 0.8730 - lr: 1.0000e-05\n",
      "Epoch 20/100\n",
      "125000/125000 [==============================] - 3561s 28ms/step - loss: 0.3183 - accuracy: 0.8721 - val_loss: 0.3159 - val_accuracy: 0.8730 - lr: 1.0000e-05\n",
      "Epoch 21/100\n",
      "125000/125000 [==============================] - 3555s 28ms/step - loss: 0.3180 - accuracy: 0.8723 - val_loss: 0.3160 - val_accuracy: 0.8731 - lr: 1.0000e-05\n",
      "Epoch 22/100\n",
      "125000/125000 [==============================] - 3586s 29ms/step - loss: 0.3178 - accuracy: 0.8724 - val_loss: 0.3158 - val_accuracy: 0.8731 - lr: 1.0000e-05\n",
      "Epoch 23/100\n",
      "125000/125000 [==============================] - 3524s 28ms/step - loss: 0.3176 - accuracy: 0.8724 - val_loss: 0.3156 - val_accuracy: 0.8731 - lr: 1.0000e-05\n",
      "Epoch 24/100\n",
      "125000/125000 [==============================] - 3518s 28ms/step - loss: 0.3175 - accuracy: 0.8724 - val_loss: 0.3157 - val_accuracy: 0.8731 - lr: 1.0000e-05\n",
      "Epoch 25/100\n",
      "125000/125000 [==============================] - 3521s 28ms/step - loss: 0.3174 - accuracy: 0.8725 - val_loss: 0.3156 - val_accuracy: 0.8733 - lr: 1.0000e-05\n",
      "Epoch 26/100\n",
      "125000/125000 [==============================] - 3520s 28ms/step - loss: 0.3174 - accuracy: 0.8725 - val_loss: 0.3155 - val_accuracy: 0.8733 - lr: 1.0000e-05\n",
      "Epoch 27/100\n",
      "125000/125000 [==============================] - 3521s 28ms/step - loss: 0.3171 - accuracy: 0.8726 - val_loss: 0.3157 - val_accuracy: 0.8732 - lr: 1.0000e-05\n",
      "Epoch 28/100\n",
      "125000/125000 [==============================] - 3524s 28ms/step - loss: 0.3171 - accuracy: 0.8727 - val_loss: 0.3154 - val_accuracy: 0.8733 - lr: 1.0000e-05\n",
      "Epoch 29/100\n",
      "125000/125000 [==============================] - 3527s 28ms/step - loss: 0.3170 - accuracy: 0.8727 - val_loss: 0.3155 - val_accuracy: 0.8733 - lr: 1.0000e-05\n",
      "Epoch 30/100\n",
      "125000/125000 [==============================] - 3528s 28ms/step - loss: 0.3170 - accuracy: 0.8727 - val_loss: 0.3154 - val_accuracy: 0.8733 - lr: 1.0000e-05\n",
      "Epoch 31/100\n",
      "125000/125000 [==============================] - 3525s 28ms/step - loss: 0.3169 - accuracy: 0.8727 - val_loss: 0.3156 - val_accuracy: 0.8733 - lr: 1.0000e-05\n",
      "Epoch 32/100\n",
      "125000/125000 [==============================] - 3525s 28ms/step - loss: 0.3165 - accuracy: 0.8729 - val_loss: 0.3153 - val_accuracy: 0.8733 - lr: 1.0000e-06\n",
      "Epoch 33/100\n",
      "125000/125000 [==============================] - 3531s 28ms/step - loss: 0.3165 - accuracy: 0.8728 - val_loss: 0.3154 - val_accuracy: 0.8733 - lr: 1.0000e-06\n",
      "Epoch 34/100\n",
      "125000/125000 [==============================] - 4028s 32ms/step - loss: 0.3165 - accuracy: 0.8729 - val_loss: 0.3153 - val_accuracy: 0.8733 - lr: 1.0000e-06\n",
      "Epoch 35/100\n",
      "125000/125000 [==============================] - 3962s 32ms/step - loss: 0.3164 - accuracy: 0.8729 - val_loss: 0.3153 - val_accuracy: 0.8733 - lr: 1.0000e-06\n",
      "Epoch 36/100\n",
      "125000/125000 [==============================] - 3529s 28ms/step - loss: 0.3163 - accuracy: 0.8730 - val_loss: 0.3153 - val_accuracy: 0.8733 - lr: 1.0000e-06\n",
      "Epoch 37/100\n",
      "125000/125000 [==============================] - 3530s 28ms/step - loss: 0.3163 - accuracy: 0.8730 - val_loss: 0.3153 - val_accuracy: 0.8733 - lr: 1.0000e-06\n",
      "Epoch 38/100\n",
      "125000/125000 [==============================] - 3529s 28ms/step - loss: 0.3163 - accuracy: 0.8730 - val_loss: 0.3153 - val_accuracy: 0.8733 - lr: 1.0000e-06\n",
      "Epoch 39/100\n",
      "125000/125000 [==============================] - 3533s 28ms/step - loss: 0.3163 - accuracy: 0.8729 - val_loss: 0.3152 - val_accuracy: 0.8734 - lr: 1.0000e-06\n",
      "Epoch 40/100\n",
      "125000/125000 [==============================] - 3533s 28ms/step - loss: 0.3163 - accuracy: 0.8730 - val_loss: 0.3153 - val_accuracy: 0.8734 - lr: 1.0000e-06\n",
      "Epoch 41/100\n",
      "125000/125000 [==============================] - 3560s 28ms/step - loss: 0.3162 - accuracy: 0.8730 - val_loss: 0.3153 - val_accuracy: 0.8734 - lr: 1.0000e-06\n",
      "Epoch 42/100\n",
      "125000/125000 [==============================] - 3650s 29ms/step - loss: 0.3162 - accuracy: 0.8731 - val_loss: 0.3153 - val_accuracy: 0.8734 - lr: 1.0000e-06\n",
      "Epoch 43/100\n",
      "125000/125000 [==============================] - 3748s 30ms/step - loss: 0.3163 - accuracy: 0.8730 - val_loss: 0.3153 - val_accuracy: 0.8734 - lr: 1.0000e-06\n",
      "Epoch 44/100\n",
      "125000/125000 [==============================] - 3704s 30ms/step - loss: 0.3163 - accuracy: 0.8730 - val_loss: 0.3153 - val_accuracy: 0.8734 - lr: 1.0000e-06\n"
     ]
    },
    {
     "data": {
      "text/plain": [
       "<keras.callbacks.History at 0x1e73a2ba920>"
      ]
     },
     "execution_count": 27,
     "metadata": {},
     "output_type": "execute_result"
    }
   ],
   "source": [
    "model.fit(train, steps_per_epoch = X_train.shape[0]//64, validation_data = val,\n",
    "           validation_steps = X_val.shape[0]//64, shuffle = True, epochs=100, callbacks = callbacks)"
   ]
  },
  {
   "cell_type": "code",
   "execution_count": null,
   "id": "936d3bc5",
   "metadata": {},
   "outputs": [],
   "source": [
    "###############################################################################################################################"
   ]
  },
  {
   "cell_type": "code",
   "execution_count": null,
   "id": "46728a34",
   "metadata": {},
   "outputs": [],
   "source": [
    "###############################################################################################################################"
   ]
  },
  {
   "cell_type": "code",
   "execution_count": null,
   "id": "ca85e8d3",
   "metadata": {},
   "outputs": [],
   "source": [
    "#Linearly stacked model conv2d and ffcnn"
   ]
  },
  {
   "cell_type": "code",
   "execution_count": 18,
   "id": "3e3000d3",
   "metadata": {},
   "outputs": [],
   "source": [
    "inputs2 = Input(shape=(1,32,32), batch_size = 64)\n",
    "x2 = Conv2D(32, kernel_size=2,  padding='same', strides = 1, activation='relu', kernel_initializer='TruncatedNormal',\n",
    "           data_format='channels_first')(inputs2)\n",
    "x2 = Conv2D(32,  kernel_size=2, padding='same', strides = 1, activation='relu',kernel_initializer='TruncatedNormal',\n",
    "           data_format='channels_first')(x2)\n",
    "x2 = MaxPooling2D(pool_size=(2, 2), data_format='channels_first')(x2)\n",
    "x2 = FourierConvolution2D(filters = 64, kernels = (2,2), kernel_initializer = tf.keras.initializers.TruncatedNormal(),\n",
    "                        use_bias=False, isChannelFirst = True, padToPower2 = True, applyConjugate = False,\n",
    "                        method = \"MATRIX_PRODUCT\")(x2)\n",
    "x2 = FourierConvolution2D(filters = 64, kernels = (2,2), kernel_initializer = tf.keras.initializers.TruncatedNormal(),\n",
    "                        use_bias=False, isChannelFirst = True, padToPower2 = True, applyConjugate = False,\n",
    "                        method = \"MATRIX_PRODUCT\")(x2)\n",
    "x2 = Flatten()(x2)\n",
    "x2 = Dense(128, activation='relu', kernel_initializer='TruncatedNormal')(x2)\n",
    "x2 = Dropout(0.2)(x2)\n",
    "x2 = Dense(32, activation='relu', kernel_initializer='TruncatedNormal')(x2)\n",
    "x2 = Dropout(0.2)(x2)\n",
    "outputs2 = Dense(1, activation='sigmoid', kernel_initializer='TruncatedNormal')(x2)\n",
    "stack = keras.Model(inputs=inputs2, outputs=outputs2)"
   ]
  },
  {
   "cell_type": "code",
   "execution_count": 19,
   "id": "39a36e74",
   "metadata": {},
   "outputs": [],
   "source": [
    "stack.compile(loss = \"binary_crossentropy\", optimizer = \"adam\", metrics = [\"accuracy\"])"
   ]
  },
  {
   "cell_type": "code",
   "execution_count": 20,
   "id": "c6100fe6",
   "metadata": {
    "scrolled": false
   },
   "outputs": [
    {
     "name": "stdout",
     "output_type": "stream",
     "text": [
      "Epoch 1/100\n",
      "125000/125000 [==============================] - 1859s 15ms/step - loss: 0.3313 - accuracy: 0.8680 - val_loss: 0.3202 - val_accuracy: 0.8698 - lr: 0.0010\n",
      "Epoch 2/100\n",
      "125000/125000 [==============================] - 1854s 15ms/step - loss: 0.3216 - accuracy: 0.8727 - val_loss: 0.3173 - val_accuracy: 0.8719 - lr: 0.0010\n",
      "Epoch 3/100\n",
      "125000/125000 [==============================] - 1856s 15ms/step - loss: 0.3200 - accuracy: 0.8734 - val_loss: 0.3263 - val_accuracy: 0.8654 - lr: 0.0010\n",
      "Epoch 4/100\n",
      "125000/125000 [==============================] - 1855s 15ms/step - loss: 0.3191 - accuracy: 0.8740 - val_loss: 0.3112 - val_accuracy: 0.8763 - lr: 0.0010\n",
      "Epoch 5/100\n",
      "125000/125000 [==============================] - 1855s 15ms/step - loss: 0.3186 - accuracy: 0.8743 - val_loss: 0.3109 - val_accuracy: 0.8746 - lr: 0.0010\n",
      "Epoch 6/100\n",
      "125000/125000 [==============================] - 1856s 15ms/step - loss: 0.3182 - accuracy: 0.8746 - val_loss: 0.3148 - val_accuracy: 0.8735 - lr: 0.0010\n",
      "Epoch 7/100\n",
      "125000/125000 [==============================] - 1856s 15ms/step - loss: 0.3181 - accuracy: 0.8745 - val_loss: 0.3160 - val_accuracy: 0.8731 - lr: 0.0010\n",
      "Epoch 8/100\n",
      "125000/125000 [==============================] - 1867s 15ms/step - loss: 0.3182 - accuracy: 0.8746 - val_loss: 0.3161 - val_accuracy: 0.8719 - lr: 0.0010\n",
      "Epoch 9/100\n",
      "125000/125000 [==============================] - 1855s 15ms/step - loss: 0.3050 - accuracy: 0.8791 - val_loss: 0.3014 - val_accuracy: 0.8794 - lr: 1.0000e-04\n",
      "Epoch 10/100\n",
      "125000/125000 [==============================] - 1867s 15ms/step - loss: 0.3037 - accuracy: 0.8796 - val_loss: 0.2995 - val_accuracy: 0.8804 - lr: 1.0000e-04\n",
      "Epoch 11/100\n",
      "125000/125000 [==============================] - 1885s 15ms/step - loss: 0.3031 - accuracy: 0.8799 - val_loss: 0.3006 - val_accuracy: 0.8800 - lr: 1.0000e-04\n",
      "Epoch 12/100\n",
      "125000/125000 [==============================] - 1872s 15ms/step - loss: 0.3027 - accuracy: 0.8801 - val_loss: 0.3006 - val_accuracy: 0.8801 - lr: 1.0000e-04\n",
      "Epoch 13/100\n",
      "125000/125000 [==============================] - 1854s 15ms/step - loss: 0.3024 - accuracy: 0.8802 - val_loss: 0.2999 - val_accuracy: 0.8805 - lr: 1.0000e-04\n",
      "Epoch 14/100\n",
      "125000/125000 [==============================] - 1858s 15ms/step - loss: 0.3007 - accuracy: 0.8808 - val_loss: 0.2976 - val_accuracy: 0.8814 - lr: 1.0000e-05\n",
      "Epoch 15/100\n",
      "125000/125000 [==============================] - 1856s 15ms/step - loss: 0.3006 - accuracy: 0.8808 - val_loss: 0.2975 - val_accuracy: 0.8814 - lr: 1.0000e-05\n",
      "Epoch 16/100\n",
      "125000/125000 [==============================] - 1854s 15ms/step - loss: 0.3004 - accuracy: 0.8809 - val_loss: 0.2977 - val_accuracy: 0.8813 - lr: 1.0000e-05\n",
      "Epoch 17/100\n",
      "125000/125000 [==============================] - 1855s 15ms/step - loss: 0.3003 - accuracy: 0.8809 - val_loss: 0.2974 - val_accuracy: 0.8815 - lr: 1.0000e-05\n",
      "Epoch 18/100\n",
      "125000/125000 [==============================] - 1857s 15ms/step - loss: 0.3003 - accuracy: 0.8809 - val_loss: 0.2974 - val_accuracy: 0.8815 - lr: 1.0000e-05\n",
      "Epoch 19/100\n",
      "125000/125000 [==============================] - 1857s 15ms/step - loss: 0.3002 - accuracy: 0.8810 - val_loss: 0.2974 - val_accuracy: 0.8815 - lr: 1.0000e-05\n",
      "Epoch 20/100\n",
      "125000/125000 [==============================] - 1856s 15ms/step - loss: 0.3001 - accuracy: 0.8811 - val_loss: 0.2973 - val_accuracy: 0.8815 - lr: 1.0000e-05\n",
      "Epoch 21/100\n",
      "125000/125000 [==============================] - 1859s 15ms/step - loss: 0.3000 - accuracy: 0.8810 - val_loss: 0.2971 - val_accuracy: 0.8817 - lr: 1.0000e-06\n",
      "Epoch 22/100\n",
      "125000/125000 [==============================] - 1855s 15ms/step - loss: 0.2999 - accuracy: 0.8811 - val_loss: 0.2971 - val_accuracy: 0.8817 - lr: 1.0000e-06\n",
      "Epoch 23/100\n",
      "125000/125000 [==============================] - 1857s 15ms/step - loss: 0.2998 - accuracy: 0.8811 - val_loss: 0.2971 - val_accuracy: 0.8817 - lr: 1.0000e-06\n",
      "Epoch 24/100\n",
      "125000/125000 [==============================] - 1857s 15ms/step - loss: 0.2999 - accuracy: 0.8811 - val_loss: 0.2971 - val_accuracy: 0.8817 - lr: 1.0000e-06\n",
      "Epoch 25/100\n",
      "125000/125000 [==============================] - 1857s 15ms/step - loss: 0.2998 - accuracy: 0.8811 - val_loss: 0.2971 - val_accuracy: 0.8816 - lr: 1.0000e-06\n",
      "Epoch 26/100\n",
      "125000/125000 [==============================] - 1858s 15ms/step - loss: 0.2999 - accuracy: 0.8810 - val_loss: 0.2971 - val_accuracy: 0.8816 - lr: 1.0000e-06\n",
      "Epoch 27/100\n",
      "125000/125000 [==============================] - 1861s 15ms/step - loss: 0.2998 - accuracy: 0.8811 - val_loss: 0.2971 - val_accuracy: 0.8816 - lr: 1.0000e-06\n",
      "Epoch 28/100\n",
      "125000/125000 [==============================] - 1858s 15ms/step - loss: 0.2998 - accuracy: 0.8812 - val_loss: 0.2971 - val_accuracy: 0.8816 - lr: 1.0000e-06\n",
      "Epoch 29/100\n",
      "125000/125000 [==============================] - 1860s 15ms/step - loss: 0.2998 - accuracy: 0.8811 - val_loss: 0.2971 - val_accuracy: 0.8817 - lr: 1.0000e-06\n",
      "Epoch 30/100\n",
      "125000/125000 [==============================] - 1856s 15ms/step - loss: 0.2997 - accuracy: 0.8811 - val_loss: 0.2970 - val_accuracy: 0.8817 - lr: 1.0000e-06\n",
      "Epoch 31/100\n",
      "125000/125000 [==============================] - 1858s 15ms/step - loss: 0.2997 - accuracy: 0.8811 - val_loss: 0.2971 - val_accuracy: 0.8816 - lr: 1.0000e-06\n",
      "Epoch 32/100\n",
      "125000/125000 [==============================] - 1859s 15ms/step - loss: 0.2997 - accuracy: 0.8812 - val_loss: 0.2971 - val_accuracy: 0.8816 - lr: 1.0000e-06\n",
      "Epoch 33/100\n",
      "125000/125000 [==============================] - 1858s 15ms/step - loss: 0.2998 - accuracy: 0.8812 - val_loss: 0.2971 - val_accuracy: 0.8817 - lr: 1.0000e-06\n",
      "Epoch 34/100\n",
      "125000/125000 [==============================] - 1861s 15ms/step - loss: 0.2998 - accuracy: 0.8812 - val_loss: 0.2971 - val_accuracy: 0.8817 - lr: 1.0000e-06\n",
      "Epoch 35/100\n",
      "125000/125000 [==============================] - 1859s 15ms/step - loss: 0.2998 - accuracy: 0.8812 - val_loss: 0.2970 - val_accuracy: 0.8817 - lr: 1.0000e-06\n",
      "Epoch 36/100\n",
      "125000/125000 [==============================] - 1853s 15ms/step - loss: 0.2998 - accuracy: 0.8811 - val_loss: 0.2970 - val_accuracy: 0.8817 - lr: 1.0000e-06\n",
      "Epoch 37/100\n",
      "125000/125000 [==============================] - 1856s 15ms/step - loss: 0.2998 - accuracy: 0.8811 - val_loss: 0.2971 - val_accuracy: 0.8817 - lr: 1.0000e-06\n",
      "Epoch 38/100\n",
      "125000/125000 [==============================] - 1853s 15ms/step - loss: 0.2997 - accuracy: 0.8812 - val_loss: 0.2970 - val_accuracy: 0.8816 - lr: 1.0000e-06\n",
      "Epoch 39/100\n",
      "125000/125000 [==============================] - 1853s 15ms/step - loss: 0.2997 - accuracy: 0.8811 - val_loss: 0.2970 - val_accuracy: 0.8817 - lr: 1.0000e-06\n",
      "Epoch 40/100\n",
      "125000/125000 [==============================] - 1860s 15ms/step - loss: 0.2997 - accuracy: 0.8812 - val_loss: 0.2970 - val_accuracy: 0.8817 - lr: 1.0000e-06\n",
      "Epoch 41/100\n",
      "125000/125000 [==============================] - 1865s 15ms/step - loss: 0.2997 - accuracy: 0.8812 - val_loss: 0.2971 - val_accuracy: 0.8817 - lr: 1.0000e-06\n",
      "Epoch 42/100\n",
      "125000/125000 [==============================] - 2229s 18ms/step - loss: 0.2997 - accuracy: 0.8812 - val_loss: 0.2971 - val_accuracy: 0.8816 - lr: 1.0000e-06\n",
      "Epoch 43/100\n",
      "125000/125000 [==============================] - 2511s 20ms/step - loss: 0.2997 - accuracy: 0.8811 - val_loss: 0.2970 - val_accuracy: 0.8817 - lr: 1.0000e-06\n",
      "Epoch 44/100\n",
      "125000/125000 [==============================] - 1856s 15ms/step - loss: 0.2997 - accuracy: 0.8812 - val_loss: 0.2970 - val_accuracy: 0.8817 - lr: 1.0000e-06\n",
      "Epoch 45/100\n",
      "125000/125000 [==============================] - 1853s 15ms/step - loss: 0.2997 - accuracy: 0.8811 - val_loss: 0.2970 - val_accuracy: 0.8817 - lr: 1.0000e-06\n",
      "Epoch 46/100\n",
      "125000/125000 [==============================] - 1855s 15ms/step - loss: 0.2997 - accuracy: 0.8812 - val_loss: 0.2970 - val_accuracy: 0.8817 - lr: 1.0000e-06\n",
      "Epoch 47/100\n",
      "125000/125000 [==============================] - 1856s 15ms/step - loss: 0.2997 - accuracy: 0.8811 - val_loss: 0.2971 - val_accuracy: 0.8817 - lr: 1.0000e-06\n",
      "Epoch 48/100\n",
      "125000/125000 [==============================] - 1854s 15ms/step - loss: 0.2997 - accuracy: 0.8811 - val_loss: 0.2970 - val_accuracy: 0.8817 - lr: 1.0000e-06\n"
     ]
    },
    {
     "data": {
      "text/plain": [
       "<keras.callbacks.History at 0x2e607e99c00>"
      ]
     },
     "execution_count": 20,
     "metadata": {},
     "output_type": "execute_result"
    }
   ],
   "source": [
    "stack.fit(train, steps_per_epoch = X_train.shape[0]//64, validation_data = val,\n",
    "           validation_steps = X_val.shape[0]//64, shuffle = True, epochs=100, callbacks = callbacks)"
   ]
  },
  {
   "cell_type": "code",
   "execution_count": null,
   "id": "b44b86c5",
   "metadata": {},
   "outputs": [],
   "source": [
    "########################################################################################################################"
   ]
  },
  {
   "cell_type": "code",
   "execution_count": null,
   "id": "9d6d6731",
   "metadata": {},
   "outputs": [],
   "source": [
    "########################################################################################################################"
   ]
  },
  {
   "cell_type": "code",
   "execution_count": null,
   "id": "5cec5317",
   "metadata": {},
   "outputs": [],
   "source": [
    "#Save the model for evaluation in the test set later on"
   ]
  },
  {
   "cell_type": "code",
   "execution_count": null,
   "id": "a1a7d9f2",
   "metadata": {},
   "outputs": [],
   "source": [
    "model.save(\"ffcnnmodel.h5\")\n",
    "conv2d.save(\"conv2dmodel.h5\")\n",
    "stack.save(\"stackmodel.h5\")"
   ]
  }
 ],
 "metadata": {
  "kernelspec": {
   "display_name": "Python 3 (ipykernel)",
   "language": "python",
   "name": "python3"
  },
  "language_info": {
   "codemirror_mode": {
    "name": "ipython",
    "version": 3
   },
   "file_extension": ".py",
   "mimetype": "text/x-python",
   "name": "python",
   "nbconvert_exporter": "python",
   "pygments_lexer": "ipython3",
   "version": "3.10.9"
  }
 },
 "nbformat": 4,
 "nbformat_minor": 5
}
